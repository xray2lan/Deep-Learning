{
 "cells": [
  {
   "cell_type": "markdown",
   "metadata": {
    "toc-hr-collapsed": false
   },
   "source": [
    "# Programming Simple Neural Network by hand and by Pytorch"
   ]
  },
  {
   "cell_type": "markdown",
   "metadata": {},
   "source": [
    "Purpose：\n",
    "1. Practice programming neural network and be familier with Forward propgation and Backward propgation;\n",
    "2. Be familier with Softmax and CrossEntropy;"
   ]
  },
  {
   "cell_type": "markdown",
   "metadata": {},
   "source": [
    "## Preparing Data"
   ]
  },
  {
   "cell_type": "code",
   "execution_count": 1,
   "metadata": {
    "ExecuteTime": {
     "end_time": "2019-08-22T13:24:06.312743Z",
     "start_time": "2019-08-22T13:24:06.294749Z"
    }
   },
   "outputs": [
    {
     "data": {
      "text/plain": [
       "((100, 4), (50, 4))"
      ]
     },
     "execution_count": 1,
     "metadata": {},
     "output_type": "execute_result"
    }
   ],
   "source": [
    "%matplotlib inline\n",
    "import numpy as np\n",
    "import matplotlib.pyplot as plt\n",
    "import seaborn as sns\n",
    "sns.set(style=\"whitegrid\")\n",
    "from sklearn import datasets\n",
    "\n",
    "\n",
    "iris = datasets.load_iris()\n",
    "data = iris.data\n",
    "target = iris.target\n",
    "\n",
    "# transition of data to one-hot\n",
    "targets = np.zeros((150, 3))\n",
    "targets[:50, 0] = targets[:50, 0] + 1.\n",
    "targets[50:100, 1] = targets[50:100, 1] + 1.\n",
    "targets[100:, 2] = targets[100:, 2] + 1.\n",
    "corpus = np.hstack((np.hstack((data, target.reshape(150,1))), targets))\n",
    "np.random.shuffle(corpus)\n",
    "total_data = corpus[:,:4]\n",
    "total_target = corpus[:,4]      # simple index\n",
    "total_targets = corpus[:, 5:]   # one-hot\n",
    "\n",
    "# split the data to train data and test data\n",
    "train_data = total_data[ :100, : ]\n",
    "test_data = total_data[100: , :]\n",
    "train_target = total_target[ :100]\n",
    "test_target = total_target[100:]\n",
    "train_target_one_hot = total_targets[ :100, : ]\n",
    "test_target_ont_hot = total_targets[100: , : ]\n",
    "train_data.shape, test_data.shape"
   ]
  },
  {
   "cell_type": "markdown",
   "metadata": {},
   "source": [
    "## Programming Simple Nerual Network by hand"
   ]
  },
  {
   "cell_type": "code",
   "execution_count": 2,
   "metadata": {},
   "outputs": [
    {
     "data": {
      "image/png": "[encoded data removed]",
      "text/plain": [
       "<Figure size 432x288 with 1 Axes>"
      ]
     },
     "metadata": {
      "needs_background": "light"
     },
     "output_type": "display_data"
    },
    {
     "name": "stdout",
     "output_type": "stream",
     "text": [
      "On train data:\n",
      "The precision is : 98.0% \n",
      "On test data:\n",
      "The precision is : 92.0% \n"
     ]
    }
   ],
   "source": [
    "class Net1:\n",
    "    def __init__(self, input_dim, hidden_dim, output_dim, lr=0.001, epoch=10):\n",
    "        self.lr = lr\n",
    "        self.epoch = epoch\n",
    "        self.input_dim = input_dim\n",
    "        self.hidden_dim = hidden_dim\n",
    "        self.output_dim = output_dim\n",
    "        self.W1 = np.random.randn(input_dim, hidden_dim) / 100\n",
    "        self.W2 = np.random.randn(hidden_dim, output_dim) / 100\n",
    "        \n",
    "        self.losses = []\n",
    "        \n",
    "    def softmax(self, x):\n",
    "        z_i = np.exp(x)\n",
    "        return z_i / np.sum(z_i)\n",
    "        \n",
    "    def sigmoid(self, x):\n",
    "        return 1 / (1 + np.exp(-x))\n",
    "        \n",
    "    def forward(self, x):\n",
    "        self.A1 = x\n",
    "        self.Z2 = np.dot(self.A1, self.W1)                                            # dim(hidden_dim,)\n",
    "        self.A2 = self.sigmoid(self.Z2)\n",
    "        self.Z3 = np.dot(self.A2, self.W2)                                            # dim(output_dim,)\n",
    "        self.A3 = self.softmax(self.Z3)\n",
    "    \n",
    "    def backward(self, y):\n",
    "        self.delta3 = self.A3 - y                                                     # dim(output_dim,)\n",
    "        self.deltaW2 = self.delta3 * self.Z2.reshape(self.hidden_dim, 1)              # dim(hidden_dim, output_dim)\n",
    "        self.deltaA2 = np.dot(self.W2, self.delta3)                                   # dim(hidden_dim,)\n",
    "        self.delta2 = self.deltaA2 * self.sigmoid(self.Z2) * self.sigmoid(1 - self.Z2)        # dim(hidden_dim,)\n",
    "        self.deltaW1 = self.A1.reshape(self.input_dim, 1) * self.delta2               # dim(input_dim, hidden_dim)\n",
    "        \n",
    "        # update gradient\n",
    "        self.W1 = self.W1 - self.lr * self.deltaW1\n",
    "        self.W2 = self.W2 - self.lr * self.deltaW2\n",
    "        \n",
    "        \n",
    "    def train(self, X, Y):\n",
    "        for epoch in range(self.epoch):\n",
    "            # SGD\n",
    "            total = np.zeros((1))\n",
    "            for i in range(X.shape[0]):\n",
    "                self.forward(X[i])\n",
    "                self.backward(Y[i])\n",
    "                \n",
    "                # loss\n",
    "                temp = np.sum(self.A3 * Y[i])\n",
    "                total += -np.log(temp) \n",
    "            self.losses.append(total / X.shape[0])\n",
    "        \n",
    "        plt.plot(range(self.epoch), self.losses)\n",
    "        plt.title(\"Simple Nerual Network by Hand\", size=14)\n",
    "        plt.xlabel(\"Iterations\")\n",
    "        plt.ylabel(\"Loss\")\n",
    "        plt.show()\n",
    "            \n",
    "    def precision(self, test, target):\n",
    "        max_indexes = []\n",
    "        for i in range(test.shape[0]):\n",
    "            self.forward(test[i])\n",
    "            max_index = np.argmax(self.A3)\n",
    "            max_indexes.append(max_index)\n",
    "        total = np.sum(np.array(max_indexes) == target)\n",
    "        print(\"The precision is : %.1f%% \" %(total / test.shape[0] * 100))\n",
    "        \n",
    "\n",
    "# test\n",
    "model1 = Net1(4, 50, 3, lr=0.001, epoch=500)\n",
    "model1.train(train_data, train_target_one_hot)\n",
    "print(\"On train data:\")\n",
    "model1.precision(train_data, train_target)\n",
    "print(\"On test data:\")\n",
    "model1.precision(test_data, test_target)"
   ]
  },
  {
   "cell_type": "markdown",
   "metadata": {},
   "source": [
    "## Using Pytorch to programming Neural Network"
   ]
  },
  {
   "cell_type": "code",
   "execution_count": 3,
   "metadata": {},
   "outputs": [
    {
     "name": "stdout",
     "output_type": "stream",
     "text": [
      "Precision is: 64.7%\n"
     ]
    },
    {
     "data": {
      "image/png": "[encoded data removed]",
      "text/plain": [
       "<Figure size 432x288 with 1 Axes>"
      ]
     },
     "metadata": {
      "needs_background": "light"
     },
     "output_type": "display_data"
    }
   ],
   "source": [
    "import torch\n",
    "X = torch.from_numpy(train_data).type(torch.FloatTensor)\n",
    "Y = torch.from_numpy(train_target).type(torch.LongTensor)\n",
    "\n",
    "loss_history  = []\n",
    "Epoch = 1000\n",
    "\n",
    "class Net2(torch.nn.Module):\n",
    "    def __init__(self, input_dim, hidden_dim, output_dim):\n",
    "        super(Net2, self).__init__()\n",
    "        self.hidden1 = torch.nn.Linear(input_dim, hidden_dim)\n",
    "        self.hidden2 = torch.nn.Linear(hidden_dim, output_dim)\n",
    "        \n",
    "    def forward(self, X):\n",
    "        a = torch.sigmoid(self.hidden1(X))\n",
    "        z = self.hidden2(a)\n",
    "        return z\n",
    "\n",
    "model2 = Net2(4, 100, 3)\n",
    "loss_function = torch.nn.CrossEntropyLoss()      # inputs of crossentropy loss don't need to go through softmax, it will automatically do it for you\n",
    "optimizer = torch.optim.SGD(model2.parameters(), lr=0.01)\n",
    "\n",
    "for epoch in range(Epoch):\n",
    "    result = model2(X)\n",
    "    loss = loss_function(result, Y)\n",
    "    loss_history.append(loss.data.numpy())\n",
    "    \n",
    "    optimizer.zero_grad()\n",
    "    loss.backward()\n",
    "    optimizer.step()\n",
    "    \n",
    "results = model2.forward(X)\n",
    "counts = torch.sum(torch.max(results, 1)[1] == Y)\n",
    "\n",
    "print(\"Precision is: %.1f%%\" %(counts.data.numpy() / 1.5))\n",
    "plt.plot(range(Epoch), loss_history)\n",
    "plt.title(\"Loss of trainning\", size=14)\n",
    "plt.ylabel(\"Loss\")\n",
    "plt.xlabel(\"Iterations\")\n",
    "plt.show()"
   ]
  },
  {
   "cell_type": "markdown",
   "metadata": {},
   "source": [
    "## Somthing Wrong with Batch training via Programming by hand"
   ]
  },
  {
   "cell_type": "code",
   "execution_count": 4,
   "metadata": {
    "ExecuteTime": {
     "end_time": "2019-08-22T14:09:11.209715Z",
     "start_time": "2019-08-22T14:09:11.202717Z"
    }
   },
   "outputs": [],
   "source": [
    "class Net3:\n",
    "    def __init__(self, input_dim, hidden_dim, output_dim, lr=0.001, epoch=10):\n",
    "        self.lr = lr\n",
    "        self.epoch = epoch\n",
    "        self.input_dim = input_dim\n",
    "        self.hidden_dim = hidden_dim\n",
    "        self.output_dim = output_dim\n",
    "        self.W1 = np.random.randn(input_dim, hidden_dim) / 100\n",
    "        self.W2 = np.random.randn(hidden_dim, output_dim) / 100\n",
    "        \n",
    "        self.losses = []\n",
    "\n",
    "    def softmax(self, x):\n",
    "        temp = []\n",
    "        for i in range(x.shape[0]):\n",
    "            e_x = np.exp(x[i,:])\n",
    "            total = np.sum(e_x)\n",
    "            temp.append((e_x / total).tolist())\n",
    "        return np.array(temp)     \n",
    "\n",
    "    def sigmoid(self, x):\n",
    "        return 1 / (1 + np.exp(-x))\n",
    "        \n",
    "    def forward(self, X):\n",
    "        self.sample_nums = len(X)  # 总样本数\n",
    "        \n",
    "        self.batch_Z_2 = np.dot(X, self.W1)                         # dim(150,6)\n",
    "        self.batch_A_2 = self.sigmoid(self.batch_Z_2)\n",
    "        self.batch_Z_3 = np.dot(self.batch_A_2, self.W2)            # dim(150,3)\n",
    "        self.batch_A_3 = self.softmax(self.batch_Z_3)\n",
    "        \n",
    "        self.A_2 = np.average(self.batch_A_2, 0)           # dim(6,)\n",
    "        self.A_1 = np.average(X, 0)                        # dim(4,)\n",
    "    \n",
    "    def backward(self, targets):\n",
    "        # loss计算\n",
    "        total = np.sum(np.exp(self.batch_Z_3), 1)\n",
    "        e = np.sum(self.batch_Z_3 * targets, 1)\n",
    "        loss = np.average(total - e)\n",
    "        self.losses.append(loss)            # maybe something wrong here\n",
    "        \n",
    "        \n",
    "        \n",
    "        batch_delta_3 = self.batch_A_3 - targets                    # dim(150,3)\n",
    "        delta_3 = np.average(batch_delta_3, 0)                            # dim(3,)\n",
    "        delta_W2 = delta_3 * self.A_2.reshape(self.hidden_dim,1)          # dim(6,3)\n",
    "        temp = np.average(self.sigmoid(self.batch_Z_2) * self.sigmoid(1 - self.batch_Z_2), 0)     # dim(6,)\n",
    "        delta_2 = np.dot(self.W2, delta_3) * temp                         # dim(6,)\n",
    "        delta_W1 = delta_2 * self.A_1.reshape(self.input_dim, 1)         # dim(4,6)\n",
    "\n",
    "        \n",
    "        # 梯度更新\n",
    "        self.W1 = self.W1 - self.lr * delta_W1\n",
    "        self.W2 = self.W2 - self.lr * delta_W2\n",
    "        \n",
    "        \n",
    "    def train(self, X, Y):\n",
    "        for epoch in range(self.epoch):\n",
    "            self.forward(X)\n",
    "            self.backward(Y)\n",
    "        \n",
    "        # 观察权重是否降低\n",
    "        plt.plot(range(self.epoch), self.losses)\n",
    "        plt.xlabel(\"Epoch\")\n",
    "        plt.ylabel(\"Loss\")\n",
    "        plt.show()\n",
    "            \n",
    "    def precision(self, test, target):\n",
    "        self.forward(test)\n",
    "        max_indexes = np.argmax(self.batch_A_3, 1)\n",
    "        total = np.sum(max_indexes == target)\n",
    "        print(\"The precision is : %.1f%% \" %(total / len(test) * 100))"
   ]
  },
  {
   "cell_type": "code",
   "execution_count": 5,
   "metadata": {
    "ExecuteTime": {
     "end_time": "2019-08-22T14:09:11.801375Z",
     "start_time": "2019-08-22T14:09:11.795378Z"
    }
   },
   "outputs": [
    {
     "data": {
      "image/png": "[encoded data removed]",
      "text/plain": [
       "<Figure size 432x288 with 1 Axes>"
      ]
     },
     "metadata": {
      "needs_background": "light"
     },
     "output_type": "display_data"
    },
    {
     "name": "stdout",
     "output_type": "stream",
     "text": [
      "The precision is : 34.0% \n"
     ]
    }
   ],
   "source": [
    "model3 = Net3(4, 30, 3, 0.001, 1000)\n",
    "model3.train(train_data, train_target_one_hot)\n",
    "model3.precision(train_data, train_target)"
   ]
  },
  {
   "cell_type": "markdown",
   "metadata": {},
   "source": [
    "# Check all Vairables"
   ]
  },
  {
   "cell_type": "code",
   "execution_count": 6,
   "metadata": {},
   "outputs": [
    {
     "name": "stdout",
     "output_type": "stream",
     "text": [
      "Variable               Type                Data/Info\n",
      "----------------------------------------------------\n",
      "Epoch                  int                 1000\n",
      "Net1                   type                <class '__main__.Net1'>\n",
      "Net2                   type                <class '__main__.Net2'>\n",
      "Net3                   type                <class '__main__.Net3'>\n",
      "X                      Tensor              tensor([[5.8000, 2.6000, <...>3.7000, 1.5000, 0.2000]])\n",
      "Y                      Tensor              tensor([1, 2, 2, 1, 0, 2,<...> 1,\\n        2, 0, 1, 0])\n",
      "corpus                 ndarray             150x8: 1200 elems, type `float64`, 9600 bytes\n",
      "counts                 Tensor              tensor(97)\n",
      "data                   ndarray             150x4: 600 elems, type `float64`, 4800 bytes\n",
      "datasets               module              <module 'sklearn.datasets<...>\\\\datasets\\\\__init__.py'>\n",
      "epoch                  int                 999\n",
      "iris                   Bunch               {'data': array([[5.1, 3.5<...>atasets\\\\data\\\\iris.csv'}\n",
      "loss                   Tensor              tensor(0.4469, grad_fn=<NllLossBackward>)\n",
      "loss_function          CrossEntropyLoss    CrossEntropyLoss()\n",
      "loss_history           list                n=1000\n",
      "model1                 Net1                <__main__.Net1 object at 0x00000246D1C18908>\n",
      "model2                 Net2                Net2(\\n  (hidden1): Linea<...>features=3, bias=True)\\n)\n",
      "model3                 Net3                <__main__.Net3 object at 0x00000246D5EDDAC8>\n",
      "np                     module              <module 'numpy' from 'd:\\<...>ges\\\\numpy\\\\__init__.py'>\n",
      "optimizer              SGD                 SGD (\\nParameter Group 0\\<...>e\\n    weight_decay: 0\\n)\n",
      "plt                    module              <module 'matplotlib.pyplo<...>\\\\matplotlib\\\\pyplot.py'>\n",
      "result                 Tensor              tensor([[-0.4454,  1.1458<...> grad_fn=<AddmmBackward>)\n",
      "results                Tensor              tensor([[-0.4459,  1.1464<...> grad_fn=<AddmmBackward>)\n",
      "sns                    module              <module 'seaborn' from 'd<...>s\\\\seaborn\\\\__init__.py'>\n",
      "target                 ndarray             150: 150 elems, type `int32`, 600 bytes\n",
      "targets                ndarray             150x3: 450 elems, type `float64`, 3600 bytes\n",
      "test_data              ndarray             50x4: 200 elems, type `float64`, 1600 bytes\n",
      "test_target            ndarray             50: 50 elems, type `float64`, 400 bytes\n",
      "test_target_ont_hot    ndarray             50x3: 150 elems, type `float64`, 1200 bytes\n",
      "torch                  module              <module 'torch' from 'd:\\<...>ges\\\\torch\\\\__init__.py'>\n",
      "total_data             ndarray             150x4: 600 elems, type `float64`, 4800 bytes\n",
      "total_target           ndarray             150: 150 elems, type `float64`, 1200 bytes\n",
      "total_targets          ndarray             150x3: 450 elems, type `float64`, 3600 bytes\n",
      "train_data             ndarray             100x4: 400 elems, type `float64`, 3200 bytes\n",
      "train_target           ndarray             100: 100 elems, type `float64`, 800 bytes\n",
      "train_target_one_hot   ndarray             100x3: 300 elems, type `float64`, 2400 bytes\n"
     ]
    }
   ],
   "source": [
    "%whos"
   ]
  }
 ],
 "metadata": {
  "kernelspec": {
   "display_name": "Python 3",
   "language": "python",
   "name": "python3"
  },
  "language_info": {
   "codemirror_mode": {
    "name": "ipython",
    "version": 3
   },
   "file_extension": ".py",
   "mimetype": "text/x-python",
   "name": "python",
   "nbconvert_exporter": "python",
   "pygments_lexer": "ipython3",
   "version": "3.7.4"
  },
  "toc": {
   "base_numbering": 1,
   "nav_menu": {},
   "number_sections": true,
   "sideBar": true,
   "skip_h1_title": false,
   "title_cell": "Table of Contents",
   "title_sidebar": "Contents",
   "toc_cell": false,
   "toc_position": {},
   "toc_section_display": true,
   "toc_window_display": false
  },
  "toc-autonumbering": true,
  "toc-showmarkdowntxt": false,
  "toc-showtags": false
 },
 "nbformat": 4,
 "nbformat_minor": 4
}
